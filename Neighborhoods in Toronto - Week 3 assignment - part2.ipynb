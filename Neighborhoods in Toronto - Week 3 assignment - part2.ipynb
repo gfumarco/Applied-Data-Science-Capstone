{
    "nbformat_minor": 1, 
    "cells": [
        {
            "source": "# Neighborhoods in Toronto", 
            "cell_type": "markdown", 
            "metadata": {
                "collapsed": true
            }
        }, 
        {
            "source": "### 1 - Scrape Wikipedia page \"Canada Postal Codes\"", 
            "cell_type": "markdown", 
            "metadata": {}
        }, 
        {
            "source": "import requests\nfrom bs4 import BeautifulSoup\nimport pandas as pd", 
            "cell_type": "code", 
            "metadata": {}, 
            "outputs": [], 
            "execution_count": 47
        }, 
        {
            "source": "page = requests.get(\"https://en.wikipedia.org/wiki/List_of_postal_codes_of_Canada:_M\")\nsoup = BeautifulSoup(page.content, 'html.parser')", 
            "cell_type": "code", 
            "metadata": {}, 
            "outputs": [], 
            "execution_count": 48
        }, 
        {
            "source": "table = soup.find('tbody')\nrows = table.select('tr')\nrow = [r.get_text() for r in rows]", 
            "cell_type": "code", 
            "metadata": {}, 
            "outputs": [], 
            "execution_count": 49
        }, 
        {
            "source": "### 2 - Create dataframe as shown in picture", 
            "cell_type": "markdown", 
            "metadata": {}
        }, 
        {
            "source": "df = pd.DataFrame(row)\ndf = df[0].str.split('\\n', expand=True)\ndf = df.rename(columns=df.iloc[0])\ndf = df.drop(df.index[0])\ndf = df.rename(columns={'Postcode':'PostalCode'})\ndf.head()", 
            "cell_type": "code", 
            "metadata": {}, 
            "outputs": [
                {
                    "output_type": "execute_result", 
                    "data": {
                        "text/plain": "    PostalCode           Borough     Neighbourhood  \n1          M1A      Not assigned      Not assigned  \n2          M2A      Not assigned      Not assigned  \n3          M3A        North York         Parkwoods  \n4          M4A        North York  Victoria Village  \n5          M5A  Downtown Toronto      Harbourfront  ", 
                        "text/html": "<div>\n<style scoped>\n    .dataframe tbody tr th:only-of-type {\n        vertical-align: middle;\n    }\n\n    .dataframe tbody tr th {\n        vertical-align: top;\n    }\n\n    .dataframe thead th {\n        text-align: right;\n    }\n</style>\n<table border=\"1\" class=\"dataframe\">\n  <thead>\n    <tr style=\"text-align: right;\">\n      <th></th>\n      <th></th>\n      <th>PostalCode</th>\n      <th>Borough</th>\n      <th>Neighbourhood</th>\n      <th></th>\n    </tr>\n  </thead>\n  <tbody>\n    <tr>\n      <th>1</th>\n      <td></td>\n      <td>M1A</td>\n      <td>Not assigned</td>\n      <td>Not assigned</td>\n      <td></td>\n    </tr>\n    <tr>\n      <th>2</th>\n      <td></td>\n      <td>M2A</td>\n      <td>Not assigned</td>\n      <td>Not assigned</td>\n      <td></td>\n    </tr>\n    <tr>\n      <th>3</th>\n      <td></td>\n      <td>M3A</td>\n      <td>North York</td>\n      <td>Parkwoods</td>\n      <td></td>\n    </tr>\n    <tr>\n      <th>4</th>\n      <td></td>\n      <td>M4A</td>\n      <td>North York</td>\n      <td>Victoria Village</td>\n      <td></td>\n    </tr>\n    <tr>\n      <th>5</th>\n      <td></td>\n      <td>M5A</td>\n      <td>Downtown Toronto</td>\n      <td>Harbourfront</td>\n      <td></td>\n    </tr>\n  </tbody>\n</table>\n</div>"
                    }, 
                    "execution_count": 50, 
                    "metadata": {}
                }
            ], 
            "execution_count": 50
        }, 
        {
            "source": "### 3 - Clean dataframe", 
            "cell_type": "markdown", 
            "metadata": {}
        }, 
        {
            "source": "#### Ignore cells with \"Not assigned\" Borough", 
            "cell_type": "markdown", 
            "metadata": {}
        }, 
        {
            "source": "df_clean = df[df.Borough != 'Not assigned']\ndf_clean.reset_index(inplace = True)\ndf_clean.head()", 
            "cell_type": "code", 
            "metadata": {}, 
            "outputs": [
                {
                    "output_type": "execute_result", 
                    "data": {
                        "text/plain": "   index   PostalCode           Borough     Neighbourhood  \n0      3          M3A        North York         Parkwoods  \n1      4          M4A        North York  Victoria Village  \n2      5          M5A  Downtown Toronto      Harbourfront  \n3      6          M5A  Downtown Toronto       Regent Park  \n4      7          M6A        North York  Lawrence Heights  ", 
                        "text/html": "<div>\n<style scoped>\n    .dataframe tbody tr th:only-of-type {\n        vertical-align: middle;\n    }\n\n    .dataframe tbody tr th {\n        vertical-align: top;\n    }\n\n    .dataframe thead th {\n        text-align: right;\n    }\n</style>\n<table border=\"1\" class=\"dataframe\">\n  <thead>\n    <tr style=\"text-align: right;\">\n      <th></th>\n      <th>index</th>\n      <th></th>\n      <th>PostalCode</th>\n      <th>Borough</th>\n      <th>Neighbourhood</th>\n      <th></th>\n    </tr>\n  </thead>\n  <tbody>\n    <tr>\n      <th>0</th>\n      <td>3</td>\n      <td></td>\n      <td>M3A</td>\n      <td>North York</td>\n      <td>Parkwoods</td>\n      <td></td>\n    </tr>\n    <tr>\n      <th>1</th>\n      <td>4</td>\n      <td></td>\n      <td>M4A</td>\n      <td>North York</td>\n      <td>Victoria Village</td>\n      <td></td>\n    </tr>\n    <tr>\n      <th>2</th>\n      <td>5</td>\n      <td></td>\n      <td>M5A</td>\n      <td>Downtown Toronto</td>\n      <td>Harbourfront</td>\n      <td></td>\n    </tr>\n    <tr>\n      <th>3</th>\n      <td>6</td>\n      <td></td>\n      <td>M5A</td>\n      <td>Downtown Toronto</td>\n      <td>Regent Park</td>\n      <td></td>\n    </tr>\n    <tr>\n      <th>4</th>\n      <td>7</td>\n      <td></td>\n      <td>M6A</td>\n      <td>North York</td>\n      <td>Lawrence Heights</td>\n      <td></td>\n    </tr>\n  </tbody>\n</table>\n</div>"
                    }, 
                    "execution_count": 51, 
                    "metadata": {}
                }
            ], 
            "execution_count": 51
        }, 
        {
            "source": "#### Combine neighbourhoods with same PostalCode", 
            "cell_type": "markdown", 
            "metadata": {}
        }, 
        {
            "source": "df_clean = df_clean.groupby(['PostalCode', 'Borough'], sort = False).agg(','.join)\ndf_clean.reset_index(inplace = True)\ndf_clean.head()", 
            "cell_type": "code", 
            "metadata": {}, 
            "outputs": [
                {
                    "output_type": "execute_result", 
                    "data": {
                        "text/plain": "  PostalCode           Borough                    Neighbourhood\n0        M3A        North York                        Parkwoods\n1        M4A        North York                 Victoria Village\n2        M5A  Downtown Toronto         Harbourfront,Regent Park\n3        M6A        North York  Lawrence Heights,Lawrence Manor\n4        M7A      Queen's Park                     Not assigned", 
                        "text/html": "<div>\n<style scoped>\n    .dataframe tbody tr th:only-of-type {\n        vertical-align: middle;\n    }\n\n    .dataframe tbody tr th {\n        vertical-align: top;\n    }\n\n    .dataframe thead th {\n        text-align: right;\n    }\n</style>\n<table border=\"1\" class=\"dataframe\">\n  <thead>\n    <tr style=\"text-align: right;\">\n      <th></th>\n      <th>PostalCode</th>\n      <th>Borough</th>\n      <th>Neighbourhood</th>\n    </tr>\n  </thead>\n  <tbody>\n    <tr>\n      <th>0</th>\n      <td>M3A</td>\n      <td>North York</td>\n      <td>Parkwoods</td>\n    </tr>\n    <tr>\n      <th>1</th>\n      <td>M4A</td>\n      <td>North York</td>\n      <td>Victoria Village</td>\n    </tr>\n    <tr>\n      <th>2</th>\n      <td>M5A</td>\n      <td>Downtown Toronto</td>\n      <td>Harbourfront,Regent Park</td>\n    </tr>\n    <tr>\n      <th>3</th>\n      <td>M6A</td>\n      <td>North York</td>\n      <td>Lawrence Heights,Lawrence Manor</td>\n    </tr>\n    <tr>\n      <th>4</th>\n      <td>M7A</td>\n      <td>Queen's Park</td>\n      <td>Not assigned</td>\n    </tr>\n  </tbody>\n</table>\n</div>"
                    }, 
                    "execution_count": 52, 
                    "metadata": {}
                }
            ], 
            "execution_count": 52
        }, 
        {
            "source": "#### Change the value of the Neighbourhood to be like the Borough \"Queen's Park\"", 
            "cell_type": "markdown", 
            "metadata": {}
        }, 
        {
            "source": "df_clean = df_clean.replace(\"Not assigned\", \"Queen's Park\")\ndf_clean.head()", 
            "cell_type": "code", 
            "metadata": {}, 
            "outputs": [
                {
                    "output_type": "execute_result", 
                    "data": {
                        "text/plain": "  PostalCode           Borough                    Neighbourhood\n0        M3A        North York                        Parkwoods\n1        M4A        North York                 Victoria Village\n2        M5A  Downtown Toronto         Harbourfront,Regent Park\n3        M6A        North York  Lawrence Heights,Lawrence Manor\n4        M7A      Queen's Park                     Queen's Park", 
                        "text/html": "<div>\n<style scoped>\n    .dataframe tbody tr th:only-of-type {\n        vertical-align: middle;\n    }\n\n    .dataframe tbody tr th {\n        vertical-align: top;\n    }\n\n    .dataframe thead th {\n        text-align: right;\n    }\n</style>\n<table border=\"1\" class=\"dataframe\">\n  <thead>\n    <tr style=\"text-align: right;\">\n      <th></th>\n      <th>PostalCode</th>\n      <th>Borough</th>\n      <th>Neighbourhood</th>\n    </tr>\n  </thead>\n  <tbody>\n    <tr>\n      <th>0</th>\n      <td>M3A</td>\n      <td>North York</td>\n      <td>Parkwoods</td>\n    </tr>\n    <tr>\n      <th>1</th>\n      <td>M4A</td>\n      <td>North York</td>\n      <td>Victoria Village</td>\n    </tr>\n    <tr>\n      <th>2</th>\n      <td>M5A</td>\n      <td>Downtown Toronto</td>\n      <td>Harbourfront,Regent Park</td>\n    </tr>\n    <tr>\n      <th>3</th>\n      <td>M6A</td>\n      <td>North York</td>\n      <td>Lawrence Heights,Lawrence Manor</td>\n    </tr>\n    <tr>\n      <th>4</th>\n      <td>M7A</td>\n      <td>Queen's Park</td>\n      <td>Queen's Park</td>\n    </tr>\n  </tbody>\n</table>\n</div>"
                    }, 
                    "execution_count": 53, 
                    "metadata": {}
                }
            ], 
            "execution_count": 53
        }, 
        {
            "source": "### 4 - Shape of the dataframe", 
            "cell_type": "markdown", 
            "metadata": {}
        }, 
        {
            "source": "df_clean.shape", 
            "cell_type": "code", 
            "metadata": {}, 
            "outputs": [
                {
                    "output_type": "execute_result", 
                    "data": {
                        "text/plain": "(103, 3)"
                    }, 
                    "execution_count": 54, 
                    "metadata": {}
                }
            ], 
            "execution_count": 54
        }, 
        {
            "source": "### 5 - Geospatial data", 
            "cell_type": "markdown", 
            "metadata": {}
        }, 
        {
            "source": "df_geo = pd.read_csv('http://cocl.us/Geospatial_data')\ndf_geo.columns = ['PostalCode', 'Latitude', 'Longitude']", 
            "cell_type": "code", 
            "metadata": {}, 
            "outputs": [], 
            "execution_count": 55
        }, 
        {
            "source": "#### Merge and create as in picture", 
            "cell_type": "markdown", 
            "metadata": {}
        }, 
        {
            "source": "df_pos = pd.merge(df_clean, df_geo, on=['PostalCode'], how='inner')\ndf_pos = df_pos[['Borough', 'Neighbourhood', 'PostalCode', 'Latitude', 'Longitude']]", 
            "cell_type": "code", 
            "metadata": {}, 
            "outputs": [], 
            "execution_count": 56
        }, 
        {
            "source": "df_pos.head()", 
            "cell_type": "code", 
            "metadata": {}, 
            "outputs": [
                {
                    "output_type": "execute_result", 
                    "data": {
                        "text/plain": "            Borough                    Neighbourhood PostalCode   Latitude  \\\n0        North York                        Parkwoods        M3A  43.753259   \n1        North York                 Victoria Village        M4A  43.725882   \n2  Downtown Toronto         Harbourfront,Regent Park        M5A  43.654260   \n3        North York  Lawrence Heights,Lawrence Manor        M6A  43.718518   \n4      Queen's Park                     Queen's Park        M7A  43.662301   \n\n   Longitude  \n0 -79.329656  \n1 -79.315572  \n2 -79.360636  \n3 -79.464763  \n4 -79.389494  ", 
                        "text/html": "<div>\n<style scoped>\n    .dataframe tbody tr th:only-of-type {\n        vertical-align: middle;\n    }\n\n    .dataframe tbody tr th {\n        vertical-align: top;\n    }\n\n    .dataframe thead th {\n        text-align: right;\n    }\n</style>\n<table border=\"1\" class=\"dataframe\">\n  <thead>\n    <tr style=\"text-align: right;\">\n      <th></th>\n      <th>Borough</th>\n      <th>Neighbourhood</th>\n      <th>PostalCode</th>\n      <th>Latitude</th>\n      <th>Longitude</th>\n    </tr>\n  </thead>\n  <tbody>\n    <tr>\n      <th>0</th>\n      <td>North York</td>\n      <td>Parkwoods</td>\n      <td>M3A</td>\n      <td>43.753259</td>\n      <td>-79.329656</td>\n    </tr>\n    <tr>\n      <th>1</th>\n      <td>North York</td>\n      <td>Victoria Village</td>\n      <td>M4A</td>\n      <td>43.725882</td>\n      <td>-79.315572</td>\n    </tr>\n    <tr>\n      <th>2</th>\n      <td>Downtown Toronto</td>\n      <td>Harbourfront,Regent Park</td>\n      <td>M5A</td>\n      <td>43.654260</td>\n      <td>-79.360636</td>\n    </tr>\n    <tr>\n      <th>3</th>\n      <td>North York</td>\n      <td>Lawrence Heights,Lawrence Manor</td>\n      <td>M6A</td>\n      <td>43.718518</td>\n      <td>-79.464763</td>\n    </tr>\n    <tr>\n      <th>4</th>\n      <td>Queen's Park</td>\n      <td>Queen's Park</td>\n      <td>M7A</td>\n      <td>43.662301</td>\n      <td>-79.389494</td>\n    </tr>\n  </tbody>\n</table>\n</div>"
                    }, 
                    "execution_count": 57, 
                    "metadata": {}
                }
            ], 
            "execution_count": 57
        }, 
        {
            "source": "", 
            "cell_type": "code", 
            "metadata": {}, 
            "outputs": [], 
            "execution_count": null
        }
    ], 
    "metadata": {
        "kernelspec": {
            "display_name": "Python 3.5", 
            "name": "python3", 
            "language": "python"
        }, 
        "language_info": {
            "mimetype": "text/x-python", 
            "nbconvert_exporter": "python", 
            "version": "3.5.5", 
            "name": "python", 
            "file_extension": ".py", 
            "pygments_lexer": "ipython3", 
            "codemirror_mode": {
                "version": 3, 
                "name": "ipython"
            }
        }
    }, 
    "nbformat": 4
}
